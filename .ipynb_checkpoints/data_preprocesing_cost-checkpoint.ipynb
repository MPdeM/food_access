{
 "cells": [
  {
   "cell_type": "markdown",
   "metadata": {},
   "source": [
    "# Medicare Data loaded, simplified, and saved to a csv file\n",
    "\n",
    "The following notebook aims to do load data and do part of the preprocessing including to choose data related to medical costs and admissions. In reallity the code loads, formats data minimaly and saves it to an smaller file. \n",
    "\n",
    "For this part of the exploratory analysis I use government data from CMS – State/County Medicare Utilization Summary - https://www.cms.gov/Research-Statistics-Data-and-Systems/Statistics-Trends-and-Reports/Medicare-Geographic-Variation/GV_PUF \n",
    "\n",
    "My understanding of billing and healthcare system is limited. For this reason the variables chosen here are at my discretion. \n",
    "\n",
    "### Improvement:  \n",
    "Import to a SQL df and query using python"
   ]
  },
  {
   "cell_type": "code",
   "execution_count": 1,
   "metadata": {},
   "outputs": [],
   "source": [
    "# Import the necesary libraries\n",
    "import pandas as pd\n",
    "import numpy as np\n",
    "import seaborn as sns\n",
    "import matplotlib.pyplot as plt\n",
    "import os"
   ]
  },
  {
   "cell_type": "code",
   "execution_count": null,
   "metadata": {
    "scrolled": true
   },
   "outputs": [],
   "source": [
    "# Import the data \n",
    "path = os.path.join('assets','State County All Table 2019.xlsx')\n",
    "df = pd.read_excel( path, encoding= \"utf-8\", head=None)\n",
    "df.info()"
   ]
  },
  {
   "cell_type": "code",
   "execution_count": null,
   "metadata": {},
   "outputs": [],
   "source": [
    "df.head(5)"
   ]
  },
  {
   "cell_type": "code",
   "execution_count": null,
   "metadata": {},
   "outputs": [],
   "source": [
    "# set column labels to the first row and change column names\n",
    "df.columns=df.iloc[0]\n",
    "df.columns = df.columns.str.replace(' ', '_')\n",
    "df=df.drop(df.index[0])\n"
   ]
  },
  {
   "cell_type": "code",
   "execution_count": null,
   "metadata": {},
   "outputs": [],
   "source": [
    "df.head(5)"
   ]
  },
  {
   "cell_type": "markdown",
   "metadata": {},
   "source": [
    "Data Cleaning & Exploring \n",
    "\n",
    "The first step in pipeline after importing data is cleaning and data exploration.\n",
    "In the interest of time, I am going to choose some of the 248 columns. The criteria to choose them is to capture some metric for cost and negative health outcomes such as hospital admissions for conditions that are obesity comorbidities. "
   ]
  },
  {
   "cell_type": "code",
   "execution_count": null,
   "metadata": {},
   "outputs": [],
   "source": [
    "# Create a dataframe of values could be of interest to determine potential impact on medical costs or utilization are most interesting to food insecurity\n",
    "columns_general = ['State_and_County_FIPS_Code','Total_Actual_Costs', 'Total_Standardized_Costs',\n",
    "#                    'Tests_Per_User_Standardized_Costs','\n",
    "#                    Test_Events_Per_1000_Beneficiaries', \n",
    "                   'Part_B_Drugs_Per_Capita_Actual_Costs','Total_Population_Based_Payment_Reduction_Costs'\n",
    "                  ]\n",
    "\n",
    "columns_diseas = ['PQI03_Diabetes_LT_Complication_Admission_Rate_(age_<_65)',\n",
    "                  'PQI03_Diabetes_LT_Complication_Admission_Rate_(age_65-74)',\n",
    "                  'PQI03_Diabetes_LT_Complication_Admission_Rate_(age_75+)',\n",
    "#                   'PQI05_COPD_or_Asthma_in_Older_Adults_Admission_Rate_(age_40-64)',\n",
    "#                   'PQI05_COPD_or_Asthma_in_Older_Adults_Admission_Rate_(age_65-74)',\n",
    "#                   'PQI05_COPD_or_Asthma_in_Older_Adults_Admission_Rate_(age_75+)',\n",
    "                  'PQI07_Hypertension_Admission_Rate_(age_<_65)',\n",
    "                  'PQI07_Hypertension_Admission_Rate_(age_65-74)',\n",
    "                  'PQI07_Hypertension_Admission_Rate_(age_75+)',\n",
    "#                   'PQI08_CHF_Admission_Rate_(age_<_65)',\n",
    "#                   'PQI08_CHF_Admission_Rate_(age_65-74)',\n",
    "#                   'PQI08_CHF_Admission_Rate_(age_75+)',\n",
    "#                   'PQI10_Dehydration_Admission_Rate_(age_<_65)',\n",
    "#                   'PQI10_Dehydration_Admission_Rate_(age_65-74)',\n",
    "#                   'PQI10_Dehydration_Admission_Rate_(age_75+)',\n",
    "#                   'PQI11_Bacterial_Pneumonia_Admission_Rate_(age_<_65)',\n",
    "#                   'PQI11_Bacterial_Pneumonia_Admission_Rate_(age_65-74)',\n",
    "#                   'PQI11_Bacterial_Pneumonia_Admission_Rate_(age_75+)'\n",
    "                 ]\n",
    "\n",
    "columns = columns_general + columns_diseas\n",
    "\n",
    "df_subset=df[columns]"
   ]
  },
  {
   "cell_type": "code",
   "execution_count": null,
   "metadata": {
    "scrolled": false
   },
   "outputs": [],
   "source": [
    "df_subset.head(10)"
   ]
  },
  {
   "cell_type": "markdown",
   "metadata": {},
   "source": [
    "### Cleaning data\n",
    "\n",
    "Rename columns. Remove NaN data from FIPS. Transform to proper numerical formats. "
   ]
  },
  {
   "cell_type": "code",
   "execution_count": null,
   "metadata": {},
   "outputs": [],
   "source": [
    "# Remove data NaN at the National and State level\n",
    "df_subset = df_subset.dropna(subset=['State_and_County_FIPS_Code'])\n",
    "df_subset.head()"
   ]
  },
  {
   "cell_type": "code",
   "execution_count": null,
   "metadata": {},
   "outputs": [],
   "source": [
    "# rename \n",
    "\n",
    "df_subset = df_subset.rename(columns ={'State_and_County_FIPS_Code':'FIPS'})\n",
    "df_subset.head()"
   ]
  },
  {
   "cell_type": "code",
   "execution_count": null,
   "metadata": {
    "scrolled": true
   },
   "outputs": [],
   "source": [
    "# transform to str into float\n",
    "# df_subset = df_subset.apply(pd.to_numeric, errors='ignore').info()\n",
    "\n",
    "df_subset['Total_Actual_Costs'] = pd.to_numeric(df_subset['Total_Actual_Costs'], errors='coerce')\n",
    "df_subset['Total_Standardized_Costs'] = pd.to_numeric(df_subset['Total_Standardized_Costs'], errors='coerce')\n",
    "df_subset['Part_B_Drugs_Per_Capita_Actual_Costs'] = pd.to_numeric(df_subset['Part_B_Drugs_Per_Capita_Actual_Costs'], errors='coerce')\n",
    "df_subset['PQI03_Diabetes_LT_Complication_Admission_Rate_(age_<_65)'] = pd.to_numeric(df_subset['PQI03_Diabetes_LT_Complication_Admission_Rate_(age_<_65)'], errors='coerce')\n",
    "df_subset['PQI03_Diabetes_LT_Complication_Admission_Rate_(age_65-74)'] = pd.to_numeric(df_subset['PQI03_Diabetes_LT_Complication_Admission_Rate_(age_65-74)'], errors='coerce')\n",
    "df_subset['PQI03_Diabetes_LT_Complication_Admission_Rate_(age_75+)'] = pd.to_numeric(df_subset['PQI03_Diabetes_LT_Complication_Admission_Rate_(age_75+)'], errors='coerce')\n",
    "df_subset['PQI07_Hypertension_Admission_Rate_(age_<_65)'] = pd.to_numeric(df_subset['PQI07_Hypertension_Admission_Rate_(age_<_65)'], errors='coerce')\n",
    "df_subset['PQI07_Hypertension_Admission_Rate_(age_65-74)'] = pd.to_numeric(df_subset['PQI07_Hypertension_Admission_Rate_(age_65-74)'], errors='coerce')\n",
    "df_subset['PQI07_Hypertension_Admission_Rate_(age_75+)'] = pd.to_numeric(df_subset['PQI07_Hypertension_Admission_Rate_(age_75+)'], errors='coerce')\n"
   ]
  },
  {
   "cell_type": "code",
   "execution_count": null,
   "metadata": {},
   "outputs": [],
   "source": [
    "df_subset.info()"
   ]
  },
  {
   "cell_type": "code",
   "execution_count": null,
   "metadata": {
    "scrolled": true
   },
   "outputs": [],
   "source": [
    "# Save data\n",
    "\n",
    "df_subset.to_csv('assets/data_cost_df.csv', index=False, header=True)"
   ]
  }
 ],
 "metadata": {
  "kernelspec": {
   "display_name": "Python 3",
   "language": "python",
   "name": "python3"
  },
  "language_info": {
   "codemirror_mode": {
    "name": "ipython",
    "version": 3
   },
   "file_extension": ".py",
   "mimetype": "text/x-python",
   "name": "python",
   "nbconvert_exporter": "python",
   "pygments_lexer": "ipython3",
   "version": "3.8.3"
  }
 },
 "nbformat": 4,
 "nbformat_minor": 4
}
