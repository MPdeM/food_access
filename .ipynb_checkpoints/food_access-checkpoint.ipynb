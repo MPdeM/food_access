{
 "cells": [
  {
   "cell_type": "markdown",
   "metadata": {},
   "source": [
    "# Food Access Programs: Exploratory Analysis\n",
    "\n",
    "The following project aims to understant food access challenges throughout US and to answer important questions such as:\n",
    "Where should a food access program be depluyed?\n",
    "Which segment of the population might benefit the most from the program?\n",
    "What do we know about potential impact on medical costs or utilization?\n",
    "\n",
    "There are many ways to analyze data that include access to food stores, access to food programs, poverty level, diet-related diseases (obesity and diabetes), race and other variables. The following analysis is based on medical autcomes. In here, we will use obesity and diabetes as a main indicators and general medical expenses (see data_preprocessing_cost.ipynb)\n",
    "\n",
    "Data sources: \n",
    "\n",
    "FDA – Food Atlas - https://www.ers.usda.gov/data-products/food-environment-atlas/data-access-and-documentation-downloads/\n",
    "\n",
    "CMS – State/County Medicare Utilization Summary - https://www.cms.gov/Research-Statistics-Data-and-Systems/Statistics-Trends-and-Reports/Medicare-Geographic-Variation/GV_PUF\n"
   ]
  },
  {
   "cell_type": "code",
   "execution_count": 1,
   "metadata": {},
   "outputs": [],
   "source": [
    "# Import the necesary libraries\n",
    "import pandas as pd\n",
    "import numpy as np\n",
    "import seaborn as sns\n",
    "import matplotlib.pyplot as plt\n",
    "%matplotlib inline\n",
    "import re"
   ]
  },
  {
   "cell_type": "code",
   "execution_count": 2,
   "metadata": {},
   "outputs": [
    {
     "ename": "NameError",
     "evalue": "name 'df' is not defined",
     "output_type": "error",
     "traceback": [
      "\u001b[0;31m---------------------------------------------------------------------------\u001b[0m",
      "\u001b[0;31mNameError\u001b[0m                                 Traceback (most recent call last)",
      "\u001b[0;32m<ipython-input-2-bb7c4af550a4>\u001b[0m in \u001b[0;36m<module>\u001b[0;34m\u001b[0m\n\u001b[1;32m      3\u001b[0m \u001b[0mdf_food\u001b[0m \u001b[0;34m=\u001b[0m \u001b[0mpd\u001b[0m\u001b[0;34m.\u001b[0m\u001b[0mread_csv\u001b[0m\u001b[0;34m(\u001b[0m\u001b[0;34m'assets/data_all_df.csv'\u001b[0m\u001b[0;34m)\u001b[0m\u001b[0;34m\u001b[0m\u001b[0;34m\u001b[0m\u001b[0m\n\u001b[1;32m      4\u001b[0m \u001b[0mdf_cost\u001b[0m \u001b[0;34m=\u001b[0m \u001b[0mpd\u001b[0m\u001b[0;34m.\u001b[0m\u001b[0mread_csv\u001b[0m\u001b[0;34m(\u001b[0m\u001b[0;34m'assets/data_cost_df.csv'\u001b[0m\u001b[0;34m)\u001b[0m\u001b[0;34m\u001b[0m\u001b[0;34m\u001b[0m\u001b[0m\n\u001b[0;32m----> 5\u001b[0;31m \u001b[0mdf\u001b[0m\u001b[0;34m.\u001b[0m\u001b[0mhead\u001b[0m\u001b[0;34m(\u001b[0m\u001b[0;36m5\u001b[0m\u001b[0;34m)\u001b[0m\u001b[0;34m\u001b[0m\u001b[0;34m\u001b[0m\u001b[0m\n\u001b[0m",
      "\u001b[0;31mNameError\u001b[0m: name 'df' is not defined"
     ]
    }
   ],
   "source": [
    "# Import the data \n",
    "\n",
    "df_food = pd.read_csv('assets/data_all_df.csv')\n",
    "df_cost = pd.read_csv('assets/data_cost_df.csv')\n",
    "df.head(5)"
   ]
  },
  {
   "cell_type": "code",
   "execution_count": null,
   "metadata": {},
   "outputs": [],
   "source": [
    "df_all= pd.merge(df_food, df_cost, on = 'FIPS', how='inner')\n"
   ]
  },
  {
   "cell_type": "markdown",
   "metadata": {},
   "source": [
    "## Data Cleaning & Exploring \n",
    "\n",
    "The first step in the pipeline after importing is exploring the data. \n",
    "In this case and in the interest of time, I will do a limited version and focus the exploration to few columns. \n",
    "I will focus the analysis at the markers or proxis that may be associated obesity and diabetes (PCT_OBESE_ADULTS17 = Adult obesity rate, 2017 and PCT_DIABETES_ADULTS13 = Adult diabetes rate, 2009 ). \n",
    "Following a preliminar review of the literature, the parameters to consider are:\n",
    "\n",
    "1) parameters related to access to food (location, household resources,goverment programs..)\n",
    "\n",
    "2) parameters related to scioeconomic status (race, income level..)\n",
    "\n",
    "3) parameters related to insecurity (race, poverty level..)\n",
    "\n",
    "4) parameters related to assistance (lunch programs, ..)\n",
    "\n",
    "5) parameters related to cost (total cost, total standarized cost..)\n"
   ]
  },
  {
   "cell_type": "code",
   "execution_count": null,
   "metadata": {},
   "outputs": [],
   "source": [
    "# Create a dataframe of values that are most interesting to food insecurity\n",
    "\n",
    "columns_general = ['FIPS', 'State', 'County', \"PCT_OBESE_ADULTS17\", \"PCT_DIABETES_ADULTS13\"]\n",
    "\n",
    "columns_access = ['LACCESS_POP10', 'LACCESS_POP15', 'PCH_LACCESS_POP_10_15',\n",
    "                  'PCT_LACCESS_POP10', 'PCT_LACCESS_POP15',\n",
    "                  'LACCESS_LOWI10', 'LACCESS_LOWI15', 'PCH_LACCESS_LOWI_10_15',\n",
    "                  'PCT_LACCESS_LOWI10', 'PCT_LACCESS_LOWI15',\n",
    "                  'LACCESS_HHNV10', 'LACCESS_HHNV15', 'PCH_LACCESS_HHNV_10_15',\n",
    "                  'PCT_LACCESS_HHNV10', 'PCT_LACCESS_HHNV15',\n",
    "                  'LACCESS_SNAP15', 'PCT_LACCESS_SNAP15',\n",
    "                  'LACCESS_CHILD10', 'LACCESS_CHILD15', 'LACCESS_CHILD_10_15',\n",
    "                  'PCT_LACCESS_CHILD10', 'PCT_LACCESS_CHILD15',\n",
    "                  'LACCESS_SENIORS10', 'LACCESS_SENIORS15', 'PCH_LACCESS_SENIORS_10_15',\n",
    "                  'PCT_LACCESS_SENIORS10', 'PCT_LACCESS_SENIORS15',\n",
    "                  'LACCESS_WHITE15', 'PCT_LACCESS_WHITE15',\n",
    "                  'LACCESS_BLACK15', 'PCT_LACCESS_BLACK15',\n",
    "                  'LACCESS_HISP15', 'PCT_LACCESS_HISP15',\n",
    "                  'LACCESS_NHASIAN15', 'PCT_LACCESS_NHASIAN15',\n",
    "#                   'LACCESS_NHNA15', 'PCT_LACCESS_NHNA15',\n",
    "#                   'LACCESS_NHPI15', 'PCT_LACCESS_NHPI15',\n",
    "#                   'LACCESS_MULTIR15', 'PCT_LACCESS_MULTIR15'\n",
    "                 ]\n",
    "                  \n",
    "columns_soc = ['PCT_NHWHITE10', 'PCT_NHBLACK10', 'PCT_HISP10', 'PCT_NHASIAN10', 'PCT_NHNA10', 'PCT_NHPI10',\n",
    "               'PCT_65OLDER10', 'PCT_18YOUNGER10', 'MEDHHINC15', 'POVRATE15','PERPOV10',\n",
    "               'CHILDPOVRATE15', 'METRO13'] \n",
    " \n",
    "columns_insec = ['FOODINSEC_15_17','VLFOODSEC_15_17']\n",
    "columns_assis = ['PCT_SNAP17','SNAP_PART_RATE16','PCT_FREE_LUNCH15','PCT_REDUCED_LUNCH15', 'PCT_WIC17']\n",
    "\n",
    "columns_stores = ['GROCPTH16','SUPERCPTH16', 'FMRKT18','FMRKTPTH18','PCT_FMRKT_FRVEG18']\n",
    "\n",
    "columns_cost = ['Total_Actual_Costs','Total_Standardized_Costs','Part_B_Drugs_Per_Capita_Actual_Costs' ]\n",
    "\n",
    "dfcolumns = columns_general + columns_cost + columns_access + columns_soc + columns_insec + columns_assis + columns_stores\n"
   ]
  },
  {
   "cell_type": "code",
   "execution_count": null,
   "metadata": {},
   "outputs": [],
   "source": [
    "df = df_all[dfcolumns]\n"
   ]
  },
  {
   "cell_type": "markdown",
   "metadata": {},
   "source": [
    "### Data description\n"
   ]
  },
  {
   "cell_type": "code",
   "execution_count": null,
   "metadata": {},
   "outputs": [],
   "source": [
    "# show dimensions\n",
    "df.shape"
   ]
  },
  {
   "cell_type": "code",
   "execution_count": null,
   "metadata": {},
   "outputs": [],
   "source": [
    "# show statistics\n",
    "df.describe"
   ]
  },
  {
   "cell_type": "markdown",
   "metadata": {},
   "source": [
    "### Cleaning data\n",
    "\n",
    "The first step is erasing rows with duplicate entries, ie same exact value for two different years, 2010 and 2015.  \n",
    "Then,  missing values and -9999 are removed.\n"
   ]
  },
  {
   "cell_type": "code",
   "execution_count": null,
   "metadata": {},
   "outputs": [],
   "source": [
    "# erase the rows that have duplicate data on different years.\n",
    "# by detecting when the difference is 0\n",
    "check = df[df['PCH_LACCESS_POP_10_15'] == 0]\n",
    "check.head()"
   ]
  },
  {
   "cell_type": "code",
   "execution_count": null,
   "metadata": {},
   "outputs": [],
   "source": [
    "# similar for other pair of values from 2010 and 2015: erase when diference is 0.00\n",
    "df = df[df['PCH_LACCESS_POP_10_15'] != 0]\n",
    "df = df[df['PCH_LACCESS_HHNV_10_15'] != 0]\n",
    "df = df[df['PCH_LACCESS_SENIORS_10_15'] != 0]"
   ]
  },
  {
   "cell_type": "code",
   "execution_count": null,
   "metadata": {
    "scrolled": true
   },
   "outputs": [],
   "source": [
    "#remove NaNs, 0s , and -9999\n",
    "df = df.dropna(how='any')\n",
    "\n",
    "df = df[df[df.columns] != -9999]\n"
   ]
  },
  {
   "cell_type": "code",
   "execution_count": null,
   "metadata": {},
   "outputs": [],
   "source": [
    "# drop columns that may not be as relevant\n",
    "\n",
    "delete_list = ['LACCESS_POP10','PCH_LACCESS_POP_10_15','PCT_LACCESS_POP10',\n",
    "               'LACCESS_LOWI10','PCH_LACCESS_LOWI_10_15','PCT_LACCESS_LOWI10',\n",
    "               'LACCESS_HHNV10','PCH_LACCESS_HHNV_10_15','PCT_LACCESS_HHNV10',\n",
    "               'LACCESS_CHILD10','LACCESS_CHILD_10_15','PCT_LACCESS_CHILD10', \n",
    "               'LACCESS_SENIORS10', 'PCH_LACCESS_SENIORS_10_15','PCT_LACCESS_SENIORS10']\n",
    "\n",
    "\n",
    "for column in delete_list:\n",
    "    del df[column]\n",
    "    \n",
    "# df.head()"
   ]
  },
  {
   "cell_type": "code",
   "execution_count": null,
   "metadata": {},
   "outputs": [],
   "source": [
    "# show dimensions\n",
    "df.shape"
   ]
  },
  {
   "cell_type": "markdown",
   "metadata": {},
   "source": [
    "## Explore data\n",
    "\n",
    "To inspect the data I am checking correlations at the population level and the % of population.\n",
    "It may be interesting to explore data at the population level if we are looking to impact the \n",
    "maximun number of people."
   ]
  },
  {
   "cell_type": "markdown",
   "metadata": {},
   "source": [
    "### Visualizations"
   ]
  },
  {
   "cell_type": "code",
   "execution_count": null,
   "metadata": {},
   "outputs": [],
   "source": [
    "# Inspect the data: subset at the % level \n",
    "\n",
    "\n",
    "\n",
    "partial= df[sb1]\n"
   ]
  },
  {
   "cell_type": "code",
   "execution_count": null,
   "metadata": {},
   "outputs": [],
   "source": [
    "# Inspect the data: subset at the % level \n",
    "# Boxplot:distribution of % values\n",
    "\n",
    "sb11=['PCT_OBESE_ADULTS17','PCT_DIABETES_ADULTS13']\n",
    "sb12=['PCT_LACCESS_LOWI15','PCT_LACCESS_HHNV15',\n",
    "     'PCT_LACCESS_SNAP15','PCT_LACCESS_SENIORS15',\n",
    "     'PCT_LACCESS_WHITE15', 'PCT_LACCESS_BLACK15','PCT_LACCESS_HISP15',\n",
    "     'PCT_LACCESS_NHASIAN15']\n",
    "sb13=['PCT_NHWHITE10', 'PCT_NHBLACK10', 'PCT_HISP10',\n",
    "     'PCT_NHASIAN10', 'PCT_NHNA10', 'PCT_NHPI10',\n",
    "     'PCT_65OLDER10','PCT_18YOUNGER10']\n",
    "sb14=['POVRATE15', 'CHILDPOVRATE15', 'PERPOV10',\n",
    "     'METRO13']\n",
    "sb15=['FOODINSEC_15_17','VLFOODSEC_15_17','PCT_SNAP17',\n",
    "     'SNAP_PART_RATE16','PCT_FREE_LUNCH15', 'PCT_REDUCED_LUNCH15',\n",
    "     'PCT_WIC17']\n",
    "sb16=['GROCPTH16','SUPERCPTH16', 'FMRKT18',\n",
    "      'FMRKTPTH18','PCT_FMRKT_FRVEG18']\n",
    "\n",
    "\n",
    "fig, axes = plt.subplots(nrows=2, ncols=3, figsize=(12, 12))\n",
    "\n",
    "flierprops = dict(marker='o', markerfacecolor='grey', \n",
    "                  markeredgecolor='skyblue',markersize=2,\n",
    "                  linestyle='none')\n",
    "\n",
    "axs[0, 0].boxplot= df.boxplot(sb11,ax=axes[0,0],grid=False,\n",
    "                             rot=90, notch=True,flierprops=flierprops)\n",
    "axs[0, 0].set_title('Obesity&Diabetes')\n",
    "\n",
    "axs[0,1].boxplot = df.boxplot(sb12,grid=False, ax=axes[0,1],\n",
    "                             rot=90, notch=True,flierprops=flierprops)\n",
    "axs[0,1].set_title('access')\n",
    "\n",
    "axs[0,2].boxplot =df.boxplot(sb13,grid=False, ax=axes[0,2],\n",
    "                             rot=90, notch=True,flierprops=flierprops)\n",
    "axs[0,2].set_title('% population')\n",
    "\n",
    "axs[1,0].boxplot = df.boxplot(sb14,grid=False, ax=axes[1,0],\n",
    "                             rot=90, notch=True,flierprops=flierprops)\n",
    "axs[1,0].set_title('poverty')\n",
    "\n",
    "axs[1,1].boxplot = df.boxplot(sb15,grid=False,ax=axes[1,1], \n",
    "                             rot=90, notch=True,flierprops=flierprops)\n",
    "axs[1,1].set_title('food insecurity')\n",
    "\n",
    "axs[1,2].boxplot = df.boxplot(sb16,grid=False, ax=axes[1,2],\n",
    "                             rot=90, notch=True,flierprops=flierprops)\n",
    "axs[1,2].set_title('% food supply')\n",
    "\n",
    "fig.subplots_adjust(left=0.08, right=0.98, bottom=0.05, top=0.9,\n",
    "                    hspace=0.4, wspace=0.3)\n",
    "# Set the axes ranges and axes labels\n",
    "# axs.set( ylabel=' % ')                             \n",
    "plt.savefig('assets/distribPerc.png')                             \n",
    "plt.show()                                                    "
   ]
  },
  {
   "cell_type": "markdown",
   "metadata": {},
   "source": [
    "# # Note: \n",
    "\n",
    "Some of the data is clearly skewed and a more detail analysis needs to be done. For example,'PCT_LACCESS_POP15' have values of percentage that are almost 100% which may be an artifact.\n"
   ]
  },
  {
   "cell_type": "markdown",
   "metadata": {},
   "source": [
    "# Detecting outlayers\n",
    "Detecting outlayers and deciding if they are the extreme cases that we are looking for or oulayers or artifacts.\n",
    "\n",
    "[TO DO]\n"
   ]
  },
  {
   "cell_type": "code",
   "execution_count": null,
   "metadata": {
    "scrolled": true
   },
   "outputs": [],
   "source": [
    "# correlation matrix with percent per county for some of the variables \n",
    "\n",
    "sb1=['PCT_OBESE_ADULTS17','PCT_DIABETES_ADULTS13',\n",
    "     'Total_Actual_Costs','Total_Standardized_Costs','Part_B_Drugs_Per_Capita_Actual_Costs',\n",
    "     'PCT_LACCESS_LOWI15','PCT_LACCESS_HHNV15',\n",
    "     'PCT_LACCESS_SNAP15','PCT_LACCESS_SENIORS15',\n",
    "     'PCT_LACCESS_WHITE15', 'PCT_LACCESS_BLACK15','PCT_LACCESS_HISP15',\n",
    "     'PCT_LACCESS_NHASIAN15',\n",
    "     'PCT_NHWHITE10', 'PCT_NHBLACK10', 'PCT_HISP10',\n",
    "     'PCT_NHASIAN10', 'PCT_NHNA10', 'PCT_NHPI10',\n",
    "     'PCT_65OLDER10','PCT_18YOUNGER10','MEDHHINC15',\n",
    "     'POVRATE15', 'CHILDPOVRATE15', 'PERPOV10',\n",
    "     'METRO13','FOODINSEC_15_17','VLFOODSEC_15_17','PCT_SNAP17',\n",
    "     'SNAP_PART_RATE16','PCT_FREE_LUNCH15', 'PCT_REDUCED_LUNCH15',\n",
    "     'PCT_WIC17',\n",
    "     'GROCPTH16','SUPERCPTH16','FMRKT18','FMRKTPTH18','PCT_FMRKT_FRVEG18',     \n",
    "    ]\n",
    "\n",
    "corr=df[sb1].corr()\n",
    "\n",
    "# Set up  matplotlib figure\n",
    "f, ax = plt.subplots(figsize=(11, 9))\n",
    "\n",
    "# Add diverging colormap from red to blue\n",
    "cmap = sns.diverging_palette(10, 150, as_cmap=True)\n",
    "\n",
    "sns.heatmap(corr,cmap=cmap,\n",
    "            square=True,\n",
    "            linewidth=.5, cbar_kws={\"shrink\": .5}, ax=ax,\n",
    "            xticklabels=corr.columns.values,\n",
    "            yticklabels=corr.columns.values)\n",
    "\n",
    "plt.savefig('assets/correlationPerc.png')\n",
    "\n",
    "plt.show()"
   ]
  },
  {
   "cell_type": "code",
   "execution_count": null,
   "metadata": {},
   "outputs": [],
   "source": [
    "# Boxplot: distribution of variables including the total count per county\n",
    "\n",
    "sb2=['PCT_OBESE_ADULTS17','PCT_DIABETES_ADULTS13',\n",
    "     'Total_Actual_Costs','Total_Standardized_Costs','Part_B_Drugs_Per_Capita_Actual_Costs',\n",
    "     'LACCESS_LOWI15','LACCESS_HHNV15',\n",
    "     'LACCESS_SNAP15','LACCESS_SENIORS15',\n",
    "     'LACCESS_WHITE15', 'LACCESS_BLACK15','LACCESS_HISP15',\n",
    "     'LACCESS_NHASIAN15',\n",
    "     'PCT_NHWHITE10', 'PCT_NHBLACK10', 'PCT_HISP10',\n",
    "     'PCT_NHASIAN10', 'PCT_NHNA10', 'PCT_NHPI10',     \n",
    "     'PCT_65OLDER10','PCT_18YOUNGER10','MEDHHINC15',\n",
    "     'POVRATE15', 'PERPOV10','CHILDPOVRATE15',\n",
    "     'METRO13','FOODINSEC_15_17','VLFOODSEC_15_17','PCT_SNAP17',\n",
    "     'SNAP_PART_RATE16','PCT_FREE_LUNCH15', 'PCT_REDUCED_LUNCH15',\n",
    "     'PCT_WIC17',\n",
    "     'GROCPTH16','SUPERCPTH16', 'FMRKT18','FMRKTPTH18','PCT_FMRKT_FRVEG18']\n",
    "\n",
    "sb21 = ['Total_Actual_Costs','Total_Standardized_Costs','Part_B_Drugs_Per_Capita_Actual_Costs']\n",
    "sb22 = ['LACCESS_LOWI15','LACCESS_HHNV15','LACCESS_SNAP15','LACCESS_SENIORS15']\n",
    "sb23 = ['LACCESS_WHITE15','LACCESS_BLACK15','LACCESS_HISP15','LACCESS_NHASIAN15']\n",
    "\n",
    "fig, (ax1,ax2,ax3) = plt.subplots(nrows=1, ncols=3, figsize=(12, 6))\n",
    "\n",
    "flierprops = dict(marker='o', markerfacecolor='grey', \n",
    "                  markeredgecolor='skyblue',markersize=2,\n",
    "                  linestyle='none')\n",
    "\n",
    "ax1.boxplot= df.boxplot(sb21,grid=False, ax=ax1,\n",
    "                             rot=90, notch=True,flierprops=flierprops)\n",
    "ax1.set_title('medical expenses')\n",
    "\n",
    "ax2.boxplot = df.boxplot(sb22,grid=False, ax=ax2,\n",
    "                             rot=90, notch=True,flierprops=flierprops)\n",
    "ax2.set_title('# low access')\n",
    "\n",
    "ax3.boxplot =df.boxplot(sb23,grid=False, ax=ax3,\n",
    "                             rot=90, notch=True,flierprops=flierprops)\n",
    "ax3.set_title('# low access/race')\n",
    "# Set the axes ranges and axes labels\n",
    "# ax1.set(xlabel='variables', ylabel='# (and % for variables starting with \"PCT\")')                             \n",
    "                             \n",
    "plt.show()\n"
   ]
  },
  {
   "cell_type": "code",
   "execution_count": null,
   "metadata": {
    "scrolled": true
   },
   "outputs": [],
   "source": [
    "# Looking at the correlations total number instead of % for some of the variables \n",
    "\n",
    "sb2=['PCT_OBESE_ADULTS17','PCT_DIABETES_ADULTS13',\n",
    "     'Total_Actual_Costs','Total_Standardized_Costs','Part_B_Drugs_Per_Capita_Actual_Costs',\n",
    "     'LACCESS_LOWI15','LACCESS_HHNV15',\n",
    "     'LACCESS_SNAP15','LACCESS_SENIORS15',\n",
    "     'LACCESS_WHITE15', 'LACCESS_BLACK15','LACCESS_HISP15',\n",
    "     'LACCESS_NHASIAN15',\n",
    "     'PCT_NHWHITE10', 'PCT_NHBLACK10', 'PCT_HISP10',\n",
    "     'PCT_NHASIAN10', 'PCT_NHNA10', 'PCT_NHPI10',     \n",
    "     'PCT_65OLDER10','PCT_18YOUNGER10','MEDHHINC15',\n",
    "     'POVRATE15', 'PERPOV10','CHILDPOVRATE15',\n",
    "     'METRO13','FOODINSEC_15_17','VLFOODSEC_15_17','PCT_SNAP17',\n",
    "     'SNAP_PART_RATE16','PCT_FREE_LUNCH15', 'PCT_REDUCED_LUNCH15',\n",
    "     'PCT_WIC17',\n",
    "     'GROCPTH16','SUPERCPTH16', 'FMRKT18','FMRKTPTH18','PCT_FMRKT_FRVEG18']\n",
    "\n",
    "corr=df[sb2].corr()\n",
    "\n",
    "# Set up  matplotlib figure\n",
    "f, ax = plt.subplots(figsize=(10, 8))\n",
    "\n",
    "# Add diverging colormap from red to blue\n",
    "cmap = sns.diverging_palette(10, 150, as_cmap=True)\n",
    "\n",
    "sns.heatmap(corr,cmap=cmap,\n",
    "            square=True,\n",
    "            linewidth=.5, cbar_kws={\"shrink\": .5}, ax=ax,\n",
    "            xticklabels=corr.columns.values,\n",
    "            yticklabels=corr.columns.values)\n",
    "\n",
    "plt.savefig('assets/correlationCount.png')\n",
    "\n",
    "plt.show()\n"
   ]
  },
  {
   "cell_type": "markdown",
   "metadata": {},
   "source": [
    "### There are many interesting correlations \n",
    "\n",
    "Obesity has a positive correlation with % of household with food insecurity, FOODINSEC_15_17, and very low food insecurity, VLFOODSEC_15_17, and food insecurity also seems to be correlated to percentage of WIC participants,PCT_WIC17.\n",
    "\n",
    "Low income and low access to stores has not distiction to race. Low income and low access to stores it also correlates to no car & low access to store. "
   ]
  },
  {
   "cell_type": "code",
   "execution_count": null,
   "metadata": {},
   "outputs": [],
   "source": [
    "# If we look at markers of diabetes and obesity both have a positive association\n",
    "# with food insecurity and the precense of programs like WIC\n",
    "# Generate a scatter plot of year versus violent crime rate\n",
    "\n",
    "x = df.iloc[:,3]\n",
    "y = df.iloc[:,47]\n",
    "plt.scatter(x,y, color='green' )\n",
    "plt.xlabel('% OBESE ADULTS')\n",
    "plt.ylabel('% WIC participants')\n",
    "\n",
    "plt.show()"
   ]
  },
  {
   "cell_type": "code",
   "execution_count": null,
   "metadata": {},
   "outputs": [],
   "source": [
    "\n",
    "# There is a positive trend between elegibility for free lunches and percent\n",
    "# of african american population, but negative correlation with \n",
    "# reduced lunches. \n",
    "\n",
    "sns.regplot( \"PCT_FREE_LUNCH15\",\"PCT_NHBLACK10\", data=df, ci=95, color=\"green\")\n",
    "sns.despine();\n",
    "x = df.iloc[:,3]\n",
    "y = df.iloc[:,47]\n",
    "plt.scatter(x,y, color='green' )\n",
    "plt.xlabel('% OBESE ADULTS')\n",
    "plt.ylabel('% WIC participants')\n",
    "\n",
    "plt.show()"
   ]
  },
  {
   "cell_type": "code",
   "execution_count": null,
   "metadata": {},
   "outputs": [],
   "source": [
    "# The higher the percentage of white population the lower the free school lunches. \n",
    "\n",
    "sns.regplot(\"PCT_NHWHITE10\", \"PCT_FREE_LUNCH15\", data=df, robust=True, ci=95, color=\"green\")\n",
    "sns.despine();\n"
   ]
  },
  {
   "cell_type": "markdown",
   "metadata": {},
   "source": [
    "## Model and predictions\n",
    "\n",
    "The following steps in the pipeline will be finding feature that are related.One quick way is to use VIF, variable inflation factors. \n",
    "VIF determines the strenght of the correlation between variables. "
   ]
  },
  {
   "cell_type": "markdown",
   "metadata": {},
   "source": []
  },
  {
   "cell_type": "code",
   "execution_count": null,
   "metadata": {},
   "outputs": [],
   "source": [
    "from statsmodels.stats.outliers_influence import variance_inflation_factor"
   ]
  },
  {
   "cell_type": "code",
   "execution_count": null,
   "metadata": {},
   "outputs": [],
   "source": [
    "def calc_vif(X):\n",
    "\n",
    "    # Calculating VIF\n",
    "    vif = pd.DataFrame()\n",
    "    vif[\"variables\"] = X.columns\n",
    "    vif[\"VIF\"] = [variance_inflation_factor(X.values, i) for i in range(X.shape[1])]\n",
    "\n",
    "    return(vif)"
   ]
  },
  {
   "cell_type": "code",
   "execution_count": null,
   "metadata": {},
   "outputs": [],
   "source": [
    "df_corr = df[sb2]\n",
    "X = df_corr.iloc[:,:-1]\n",
    "calc_vif(X)"
   ]
  },
  {
   "cell_type": "markdown",
   "metadata": {},
   "source": [
    "Those variables with a coeficient closer to 1 are not correlated with the other variables. The higher the number the higher the collinearity of the particular variable and the rest.\n",
    "This step will help to eliminate variables and also consider if two variables could be convined."
   ]
  },
  {
   "cell_type": "code",
   "execution_count": null,
   "metadata": {},
   "outputs": [],
   "source": [
    "df2 = df_corr.copy()\n",
    "df2['poverty_rate'] = df.apply(lambda x: x['CHILDPOVRATE15'] + x['POVRATE15'],axis=1)\n",
    "X = df2.drop(['CHILDPOVRATE15','POVRATE15',],axis=1)\n",
    "calc_vif(X)"
   ]
  },
  {
   "cell_type": "markdown",
   "metadata": {},
   "source": [
    "## Multiple regression\n",
    "\n",
    "Idealy a variable like obesity and diabetes can be conbined and used to do a regression with some of the parameters related to cost. \n",
    " \n",
    "For example, if diabetes and obesity ara positively correlated with low acces to stores then having a better channel for food distribution will have a measurable impact. \n",
    "\n"
   ]
  },
  {
   "cell_type": "markdown",
   "metadata": {},
   "source": [
    "## Geographical locations\n",
    "\n",
    "To look for a more specific locations one posible approach is using \n",
    "few weigthed parameters and set up a system of scores based on the \n",
    "quantile distributions of different relevant parameters.\n",
    "\n",
    "For example, if model predicts association with variables such us poverty rate, SNAP deploiment, WIC utilization .. those features can be weigthed and fed back to each county to calculate an score base on the deviation of the number and prediction. \n",
    "The counties with the higher score could be proposed as a condidates for the intervention."
   ]
  },
  {
   "cell_type": "code",
   "execution_count": null,
   "metadata": {},
   "outputs": [],
   "source": []
  },
  {
   "cell_type": "code",
   "execution_count": null,
   "metadata": {},
   "outputs": [],
   "source": []
  },
  {
   "cell_type": "code",
   "execution_count": null,
   "metadata": {},
   "outputs": [],
   "source": []
  }
 ],
 "metadata": {
  "kernelspec": {
   "display_name": "Python 3",
   "language": "python",
   "name": "python3"
  },
  "language_info": {
   "codemirror_mode": {
    "name": "ipython",
    "version": 3
   },
   "file_extension": ".py",
   "mimetype": "text/x-python",
   "name": "python",
   "nbconvert_exporter": "python",
   "pygments_lexer": "ipython3",
   "version": "3.8.3"
  }
 },
 "nbformat": 4,
 "nbformat_minor": 4
}
