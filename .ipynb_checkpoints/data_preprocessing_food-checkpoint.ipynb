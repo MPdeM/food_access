{
 "cells": [
  {
   "cell_type": "markdown",
   "metadata": {},
   "source": [
    "# Access Data loaded, simplified, and saved to a csv file \n",
    "\n",
    "For this part of the preprocessing I use government the excel data from The United States Department of Agriculture FDA – Food Atlas - https://www.ers.usda.gov/data-products/food-environment-atlas/data-access-and-documentation-downloads/\n",
    "\n",
    "\n",
    "### Improvement:  \n",
    "Import to a SQL df and query using python or use the csv and pivot the table. "
   ]
  },
  {
   "cell_type": "code",
   "execution_count": null,
   "metadata": {},
   "outputs": [],
   "source": [
    "# Import the necesary libraries\n",
    "import pandas as pd\n",
    "import numpy as np\n",
    "import matplotlib.pyplot as plt"
   ]
  },
  {
   "cell_type": "code",
   "execution_count": null,
   "metadata": {},
   "outputs": [],
   "source": [
    "# Import the data \n",
    "access_df = pd.read_excel('assets/FoodEnvironmentAtlas.xlsx', sheet_name = \"ACCESS\", encoding = \"UTF-8\")"
   ]
  },
  {
   "cell_type": "code",
   "execution_count": null,
   "metadata": {},
   "outputs": [],
   "source": [
    "health_df = pd.read_excel('assets/FoodEnvironmentAtlas.xlsx', sheet_name = \"HEALTH\", encoding = \"UTF-8\")"
   ]
  },
  {
   "cell_type": "code",
   "execution_count": null,
   "metadata": {},
   "outputs": [],
   "source": [
    "socio_df = pd.read_excel('assets/FoodEnvironmentAtlas.xlsx', sheet_name = \"SOCIOECONOMIC\", encoding = \"UTF-8\")"
   ]
  },
  {
   "cell_type": "code",
   "execution_count": null,
   "metadata": {},
   "outputs": [],
   "source": [
    "insecurity_df = pd.read_excel('assets/FoodEnvironmentAtlas.xlsx', sheet_name = \"INSECURITY\", encoding = \"UTF-8\")"
   ]
  },
  {
   "cell_type": "code",
   "execution_count": null,
   "metadata": {},
   "outputs": [],
   "source": [
    "stores_df = pd.read_excel('assets/FoodEnvironmentAtlas.xlsx', sheet_name = \"STORES\", encoding = \"UTF-8\")"
   ]
  },
  {
   "cell_type": "code",
   "execution_count": null,
   "metadata": {},
   "outputs": [],
   "source": [
    "assist_df = pd.read_excel('assets/FoodEnvironmentAtlas.xlsx', sheet_name = \"ASSISTANCE\", encoding = \"UTF-8\")"
   ]
  },
  {
   "cell_type": "code",
   "execution_count": null,
   "metadata": {},
   "outputs": [],
   "source": [
    "taxes_df = pd.read_excel('assets/FoodEnvironmentAtlas.xlsx', sheet_name = \"TAXES\", encoding = \"UTF-8\")\n",
    "local_df = pd.read_excel('assets/FoodEnvironmentAtlas.xlsx', sheet_name = \"LOCAL\", encoding = \"UTF-8\")\n",
    "rest_df = pd.read_excel('assets/FoodEnvironmentAtlas.xlsx', sheet_name = \"RESTAURANTS\", encoding = \"UTF-8\")"
   ]
  },
  {
   "cell_type": "code",
   "execution_count": null,
   "metadata": {},
   "outputs": [],
   "source": [
    "# Merge all data in the same table\n",
    "\n",
    "merge1 = pd.merge(access_df, health_df, on=['FIPS', 'State', 'County'])\n",
    "merge2 = pd.merge(merge1, socio_df, on=['FIPS', 'State', 'County'])\n",
    "merge3 = pd.merge(merge2, insecurity_df, on=['FIPS', 'State', 'County'])\n",
    "merge4 = pd.merge(merge3, stores_df, on=['FIPS', 'State', 'County'])\n",
    "merge5 = pd.merge(merge4, assist_df, on=['FIPS', 'State', 'County'])\n",
    "merge6 = pd.merge(merge5, taxes_df, on=['FIPS', 'State', 'County'])\n",
    "merge7 = pd.merge(merge6, local_df, on=['FIPS', 'State', 'County'])\n",
    "\n",
    "data_all_df = pd.merge(merge7, rest_df, on=['FIPS', 'State', 'County'])\n",
    "\n",
    "data_all_df.info()"
   ]
  },
  {
   "cell_type": "code",
   "execution_count": null,
   "metadata": {
    "scrolled": true
   },
   "outputs": [],
   "source": [
    "data_all_df.info()"
   ]
  },
  {
   "cell_type": "code",
   "execution_count": null,
   "metadata": {},
   "outputs": [],
   "source": [
    "# Save the data\n",
    "\n",
    "data_all_df.to_csv('assets/data_all_df.csv', index=False, header=True)"
   ]
  },
  {
   "cell_type": "code",
   "execution_count": null,
   "metadata": {},
   "outputs": [],
   "source": []
  }
 ],
 "metadata": {
  "kernelspec": {
   "display_name": "Python 3",
   "language": "python",
   "name": "python3"
  },
  "language_info": {
   "codemirror_mode": {
    "name": "ipython",
    "version": 3
   },
   "file_extension": ".py",
   "mimetype": "text/x-python",
   "name": "python",
   "nbconvert_exporter": "python",
   "pygments_lexer": "ipython3",
   "version": "3.8.3"
  }
 },
 "nbformat": 4,
 "nbformat_minor": 4
}
